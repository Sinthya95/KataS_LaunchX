{
  "cells": [
    {
      "cell_type": "markdown",
      "metadata": {},
      "source": [
        "# Kata 1\n",
        "\n",
        "Primeros pasos"
      ]
    },
    {
      "cell_type": "markdown",
      "metadata": {},
      "source": [
        "\n",
        ">**Trabajar con salidas**\n",
        "\n",
        ">**La función print()**\n"
      ]
    },
    {
      "cell_type": "code",
      "execution_count": 2,
      "metadata": {},
      "outputs": [
        {
          "name": "stdout",
          "output_type": "stream",
          "text": [
            "Hola desde la consola\n"
          ]
        }
      ],
      "source": [
        " print('Hola desde la consola')"
      ]
    },
    {
      "cell_type": "markdown",
      "metadata": {},
      "source": [
        ">**Variables**\n"
      ]
    },
    {
      "cell_type": "code",
      "execution_count": 3,
      "metadata": {},
      "outputs": [
        {
          "name": "stdout",
          "output_type": "stream",
          "text": [
            "6\n"
          ]
        }
      ],
      "source": [
        "sum = 1 + 2 # 3\n",
        "product = sum * 2\n",
        "print(product)"
      ]
    },
    {
      "cell_type": "markdown",
      "metadata": {},
      "source": [
        ">**Tipos de datos**"
      ]
    },
    {
      "cell_type": "code",
      "execution_count": 4,
      "metadata": {},
      "outputs": [
        {
          "data": {
            "text/plain": [
              "float"
            ]
          },
          "execution_count": 4,
          "metadata": {},
          "output_type": "execute_result"
        }
      ],
      "source": [
        "# Declaramos la variable\n",
        "distancia_a_alfa_centauri = 4.367\n",
        "\n",
        "# Descubrimos su tipo de dato\n",
        "type(distancia_a_alfa_centauri)"
      ]
    },
    {
      "cell_type": "markdown",
      "metadata": {},
      "source": [
        ">**Operadores**"
      ]
    },
    {
      "cell_type": "code",
      "execution_count": 5,
      "metadata": {},
      "outputs": [
        {
          "data": {
            "text/plain": [
              "2.0"
            ]
          },
          "execution_count": 5,
          "metadata": {},
          "output_type": "execute_result"
        }
      ],
      "source": [
        "left_side = 10\n",
        "right_side = 5\n",
        "left_side / right_side # 2"
      ]
    },
    {
      "cell_type": "markdown",
      "metadata": {},
      "source": [
        ">**Fechas**"
      ]
    },
    {
      "cell_type": "code",
      "execution_count": 6,
      "metadata": {},
      "outputs": [
        {
          "name": "stdout",
          "output_type": "stream",
          "text": [
            "2022-02-13\n"
          ]
        }
      ],
      "source": [
        "# Importamos la biblioteca \n",
        "from datetime import date\n",
        "\n",
        "# Obtenemos la fecha de hoy\n",
        "date.today()\n",
        "\n",
        "# Mostramos la fecha en la consola\n",
        "print(date.today())"
      ]
    },
    {
      "cell_type": "markdown",
      "metadata": {},
      "source": [
        ">**Conversión de tipos de datos**"
      ]
    },
    {
      "cell_type": "code",
      "execution_count": 7,
      "metadata": {},
      "outputs": [
        {
          "ename": "TypeError",
          "evalue": "can only concatenate str (not \"datetime.date\") to str",
          "output_type": "error",
          "traceback": [
            "\u001b[1;31m---------------------------------------------------------------------------\u001b[0m",
            "\u001b[1;31mTypeError\u001b[0m                                 Traceback (most recent call last)",
            "\u001b[1;32mc:\\Users\\sinth\\OneDrive\\Escritorio\\katasmeow\\Modulo1Katas.ipynb Cell 13'\u001b[0m in \u001b[0;36m<module>\u001b[1;34m\u001b[0m\n\u001b[1;32m----> <a href='vscode-notebook-cell:/c%3A/Users/sinth/OneDrive/Escritorio/katasmeow/Modulo1Katas.ipynb#ch0000023?line=0'>1</a>\u001b[0m \u001b[39mprint\u001b[39m(\u001b[39m\"\u001b[39;49m\u001b[39mToday\u001b[39;49m\u001b[39m'\u001b[39;49m\u001b[39ms date is: \u001b[39;49m\u001b[39m\"\u001b[39;49m \u001b[39m+\u001b[39;49m date\u001b[39m.\u001b[39;49mtoday())\n",
            "\u001b[1;31mTypeError\u001b[0m: can only concatenate str (not \"datetime.date\") to str"
          ]
        }
      ],
      "source": [
        "print(\"Today's date is: \" + date.today())"
      ]
    },
    {
      "cell_type": "code",
      "execution_count": 8,
      "metadata": {},
      "outputs": [
        {
          "name": "stdout",
          "output_type": "stream",
          "text": [
            "Today's date is: 2022-02-13\n"
          ]
        }
      ],
      "source": [
        "print(\"Today's date is: \" + str(date.today()))"
      ]
    },
    {
      "cell_type": "markdown",
      "metadata": {},
      "source": [
        ">**Entrada del usuario**"
      ]
    },
    {
      "cell_type": "code",
      "execution_count": 9,
      "metadata": {},
      "outputs": [
        {
          "name": "stdout",
          "output_type": "stream",
          "text": [
            "Bienvenido al programa de Bienvenida\n",
            "saludos: Sinthya\n"
          ]
        }
      ],
      "source": [
        "print(\"Bienvenido al programa de Bienvenida\")\n",
        "name = input(\"introduzca su nombre\")\n",
        "print(\"saludos: \"+ name)"
      ]
    },
    {
      "cell_type": "markdown",
      "metadata": {},
      "source": [
        ">**Trabajar con números**"
      ]
    },
    {
      "cell_type": "code",
      "execution_count": 10,
      "metadata": {},
      "outputs": [
        {
          "name": "stdout",
          "output_type": "stream",
          "text": [
            "Calculadora\n",
            "22\n"
          ]
        }
      ],
      "source": [
        "print(\"Calculadora\")\n",
        "first_number = input(\"primer numero: \")\n",
        "second_number = input(\"segundo numero: \")\n",
        "print(first_number + second_number)"
      ]
    },
    {
      "cell_type": "code",
      "execution_count": 12,
      "metadata": {},
      "outputs": [
        {
          "name": "stdout",
          "output_type": "stream",
          "text": [
            "calculadora\n",
            "4\n"
          ]
        }
      ],
      "source": [
        "print(\"calculadora\")\n",
        "first_number = input(\"primer numero\")\n",
        "second_number = input(\"segundo numero\")\n",
        "print(int(first_number) + int(second_number))"
      ]
    },
    {
      "cell_type": "markdown",
      "metadata": {},
      "source": [
        "# Kata 1\n"
      ]
    },
    {
      "cell_type": "markdown",
      "metadata": {},
      "source": [
        ">**Ejercicio 1**"
      ]
    },
    {
      "cell_type": "markdown",
      "metadata": {},
      "source": [
        "TIP\n",
        "Dedique unos minutos a tratar de encontrar una solución. Luego desplácese hacia abajo hasta la parte inferior para ver si ha logrado compilar el programa de acuerdo con las especificaciones.\n",
        "\n",
        "\n"
      ]
    },
    {
      "cell_type": "code",
      "execution_count": 18,
      "metadata": {},
      "outputs": [
        {
          "name": "stdout",
          "output_type": "stream",
          "text": [
            "Today's date is:2022-02-13\n"
          ]
        }
      ],
      "source": [
        "from datetime import date\n",
        "date.today()\n",
        "print(\"Today's date is:\" + str(date.today()))"
      ]
    },
    {
      "cell_type": "markdown",
      "metadata": {},
      "source": [
        ">**Ejercicio 2**"
      ]
    },
    {
      "cell_type": "code",
      "execution_count": 22,
      "metadata": {},
      "outputs": [
        {
          "name": "stdout",
          "output_type": "stream",
          "text": [
            "11 parsec, is 35.877159999999996 lightyears\n"
          ]
        }
      ],
      "source": [
        "parsec = 11\n",
        "lightyears = 3.26156 * parsec\n",
        "print(str(parsec) + \" parsec, is \" + str(lightyears) + \" lightyears\")"
      ]
    },
    {
      "cell_type": "markdown",
      "metadata": {},
      "source": [
        "> [!TIP]\n",
        "> 1 parsec es 3.26156 años luz. Utiliza el operador de multiplicación."
      ]
    }
  ],
  "metadata": {
    "interpreter": {
      "hash": "69eb92836b941e979072a76c7fcfffe5419cca933cedd02cfafbdfca1a93358c"
    },
    "kernel_info": {
      "name": "conda-env-py37_default-py"
    },
    "kernelspec": {
      "display_name": "py37_default",
      "language": "python",
      "name": "python3"
    },
    "language_info": {
      "codemirror_mode": {
        "name": "ipython",
        "version": 3
      },
      "file_extension": ".py",
      "mimetype": "text/x-python",
      "name": "python",
      "nbconvert_exporter": "python",
      "pygments_lexer": "ipython3",
      "version": "3.9.10"
    },
    "nteract": {
      "version": "nteract-front-end@1.0.0"
    },
    "orig_nbformat": 4
  },
  "nbformat": 4,
  "nbformat_minor": 2
}
